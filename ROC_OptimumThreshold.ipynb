{
 "cells": [
  {
   "cell_type": "code",
   "execution_count": null,
   "id": "9543af60",
   "metadata": {},
   "outputs": [],
   "source": [
    "## Continuation of the previous problem named as ConfusionMatrix_ROCcurve_logistic_regression"
   ]
  },
  {
   "cell_type": "code",
   "execution_count": 1,
   "id": "78b77cf2",
   "metadata": {},
   "outputs": [],
   "source": [
    "import pandas as pd\n",
    "import matplotlib.pyplot as plt"
   ]
  },
  {
   "cell_type": "code",
   "execution_count": 4,
   "id": "1519e785",
   "metadata": {},
   "outputs": [
    {
     "data": {
      "text/html": [
       "<div>\n",
       "<style scoped>\n",
       "    .dataframe tbody tr th:only-of-type {\n",
       "        vertical-align: middle;\n",
       "    }\n",
       "\n",
       "    .dataframe tbody tr th {\n",
       "        vertical-align: top;\n",
       "    }\n",
       "\n",
       "    .dataframe thead th {\n",
       "        text-align: right;\n",
       "    }\n",
       "</style>\n",
       "<table border=\"1\" class=\"dataframe\">\n",
       "  <thead>\n",
       "    <tr style=\"text-align: right;\">\n",
       "      <th></th>\n",
       "      <th>Customer</th>\n",
       "      <th>Spending</th>\n",
       "      <th>Card</th>\n",
       "      <th>Coupon</th>\n",
       "    </tr>\n",
       "  </thead>\n",
       "  <tbody>\n",
       "    <tr>\n",
       "      <th>0</th>\n",
       "      <td>1</td>\n",
       "      <td>2.291</td>\n",
       "      <td>1</td>\n",
       "      <td>0</td>\n",
       "    </tr>\n",
       "    <tr>\n",
       "      <th>1</th>\n",
       "      <td>2</td>\n",
       "      <td>3.215</td>\n",
       "      <td>1</td>\n",
       "      <td>0</td>\n",
       "    </tr>\n",
       "    <tr>\n",
       "      <th>2</th>\n",
       "      <td>3</td>\n",
       "      <td>2.135</td>\n",
       "      <td>1</td>\n",
       "      <td>0</td>\n",
       "    </tr>\n",
       "    <tr>\n",
       "      <th>3</th>\n",
       "      <td>4</td>\n",
       "      <td>3.924</td>\n",
       "      <td>0</td>\n",
       "      <td>0</td>\n",
       "    </tr>\n",
       "    <tr>\n",
       "      <th>4</th>\n",
       "      <td>5</td>\n",
       "      <td>2.528</td>\n",
       "      <td>1</td>\n",
       "      <td>0</td>\n",
       "    </tr>\n",
       "    <tr>\n",
       "      <th>...</th>\n",
       "      <td>...</td>\n",
       "      <td>...</td>\n",
       "      <td>...</td>\n",
       "      <td>...</td>\n",
       "    </tr>\n",
       "    <tr>\n",
       "      <th>95</th>\n",
       "      <td>96</td>\n",
       "      <td>3.318</td>\n",
       "      <td>0</td>\n",
       "      <td>0</td>\n",
       "    </tr>\n",
       "    <tr>\n",
       "      <th>96</th>\n",
       "      <td>97</td>\n",
       "      <td>2.421</td>\n",
       "      <td>1</td>\n",
       "      <td>0</td>\n",
       "    </tr>\n",
       "    <tr>\n",
       "      <th>97</th>\n",
       "      <td>98</td>\n",
       "      <td>6.073</td>\n",
       "      <td>0</td>\n",
       "      <td>0</td>\n",
       "    </tr>\n",
       "    <tr>\n",
       "      <th>98</th>\n",
       "      <td>99</td>\n",
       "      <td>2.630</td>\n",
       "      <td>1</td>\n",
       "      <td>0</td>\n",
       "    </tr>\n",
       "    <tr>\n",
       "      <th>99</th>\n",
       "      <td>100</td>\n",
       "      <td>3.411</td>\n",
       "      <td>0</td>\n",
       "      <td>1</td>\n",
       "    </tr>\n",
       "  </tbody>\n",
       "</table>\n",
       "<p>100 rows × 4 columns</p>\n",
       "</div>"
      ],
      "text/plain": [
       "    Customer  Spending  Card  Coupon\n",
       "0          1     2.291     1       0\n",
       "1          2     3.215     1       0\n",
       "2          3     2.135     1       0\n",
       "3          4     3.924     0       0\n",
       "4          5     2.528     1       0\n",
       "..       ...       ...   ...     ...\n",
       "95        96     3.318     0       0\n",
       "96        97     2.421     1       0\n",
       "97        98     6.073     0       0\n",
       "98        99     2.630     1       0\n",
       "99       100     3.411     0       1\n",
       "\n",
       "[100 rows x 4 columns]"
      ]
     },
     "execution_count": 4,
     "metadata": {},
     "output_type": "execute_result"
    }
   ],
   "source": [
    "data = pd.read_excel(\"/home/ashish/projects/ROC_Curve_AND_Optimal_Threshold/Simmons2-Copy1.xls\")\n",
    "data"
   ]
  },
  {
   "cell_type": "code",
   "execution_count": 5,
   "id": "490b12dc",
   "metadata": {},
   "outputs": [
    {
     "data": {
      "text/html": [
       "<div>\n",
       "<style scoped>\n",
       "    .dataframe tbody tr th:only-of-type {\n",
       "        vertical-align: middle;\n",
       "    }\n",
       "\n",
       "    .dataframe tbody tr th {\n",
       "        vertical-align: top;\n",
       "    }\n",
       "\n",
       "    .dataframe thead th {\n",
       "        text-align: right;\n",
       "    }\n",
       "</style>\n",
       "<table border=\"1\" class=\"dataframe\">\n",
       "  <thead>\n",
       "    <tr style=\"text-align: right;\">\n",
       "      <th></th>\n",
       "      <th>Customer</th>\n",
       "      <th>Spending</th>\n",
       "      <th>Card</th>\n",
       "      <th>Coupon</th>\n",
       "    </tr>\n",
       "  </thead>\n",
       "  <tbody>\n",
       "    <tr>\n",
       "      <th>count</th>\n",
       "      <td>100.000000</td>\n",
       "      <td>100.000000</td>\n",
       "      <td>100.000000</td>\n",
       "      <td>100.000000</td>\n",
       "    </tr>\n",
       "    <tr>\n",
       "      <th>mean</th>\n",
       "      <td>50.500000</td>\n",
       "      <td>3.333790</td>\n",
       "      <td>0.500000</td>\n",
       "      <td>0.400000</td>\n",
       "    </tr>\n",
       "    <tr>\n",
       "      <th>std</th>\n",
       "      <td>29.011492</td>\n",
       "      <td>1.741298</td>\n",
       "      <td>0.502519</td>\n",
       "      <td>0.492366</td>\n",
       "    </tr>\n",
       "    <tr>\n",
       "      <th>min</th>\n",
       "      <td>1.000000</td>\n",
       "      <td>1.058000</td>\n",
       "      <td>0.000000</td>\n",
       "      <td>0.000000</td>\n",
       "    </tr>\n",
       "    <tr>\n",
       "      <th>25%</th>\n",
       "      <td>25.750000</td>\n",
       "      <td>2.059000</td>\n",
       "      <td>0.000000</td>\n",
       "      <td>0.000000</td>\n",
       "    </tr>\n",
       "    <tr>\n",
       "      <th>50%</th>\n",
       "      <td>50.500000</td>\n",
       "      <td>2.805500</td>\n",
       "      <td>0.500000</td>\n",
       "      <td>0.000000</td>\n",
       "    </tr>\n",
       "    <tr>\n",
       "      <th>75%</th>\n",
       "      <td>75.250000</td>\n",
       "      <td>4.468250</td>\n",
       "      <td>1.000000</td>\n",
       "      <td>1.000000</td>\n",
       "    </tr>\n",
       "    <tr>\n",
       "      <th>max</th>\n",
       "      <td>100.000000</td>\n",
       "      <td>7.076000</td>\n",
       "      <td>1.000000</td>\n",
       "      <td>1.000000</td>\n",
       "    </tr>\n",
       "  </tbody>\n",
       "</table>\n",
       "</div>"
      ],
      "text/plain": [
       "         Customer    Spending        Card      Coupon\n",
       "count  100.000000  100.000000  100.000000  100.000000\n",
       "mean    50.500000    3.333790    0.500000    0.400000\n",
       "std     29.011492    1.741298    0.502519    0.492366\n",
       "min      1.000000    1.058000    0.000000    0.000000\n",
       "25%     25.750000    2.059000    0.000000    0.000000\n",
       "50%     50.500000    2.805500    0.500000    0.000000\n",
       "75%     75.250000    4.468250    1.000000    1.000000\n",
       "max    100.000000    7.076000    1.000000    1.000000"
      ]
     },
     "execution_count": 5,
     "metadata": {},
     "output_type": "execute_result"
    }
   ],
   "source": [
    "data.describe()  ## t describe the statistical information about data"
   ]
  },
  {
   "cell_type": "code",
   "execution_count": 6,
   "id": "c98023b7",
   "metadata": {},
   "outputs": [
    {
     "data": {
      "text/plain": [
       "array([0, 1])"
      ]
     },
     "execution_count": 6,
     "metadata": {},
     "output_type": "execute_result"
    }
   ],
   "source": [
    "data['Coupon'].unique()"
   ]
  },
  {
   "cell_type": "code",
   "execution_count": 7,
   "id": "760b60b7",
   "metadata": {},
   "outputs": [
    {
     "data": {
      "text/plain": [
       "0    60\n",
       "1    40\n",
       "Name: Coupon, dtype: int64"
      ]
     },
     "execution_count": 7,
     "metadata": {},
     "output_type": "execute_result"
    }
   ],
   "source": [
    "data['Coupon'].value_counts()"
   ]
  },
  {
   "cell_type": "code",
   "execution_count": 8,
   "id": "d5020526",
   "metadata": {},
   "outputs": [
    {
     "data": {
      "text/plain": [
       "0.6"
      ]
     },
     "execution_count": 8,
     "metadata": {},
     "output_type": "execute_result"
    }
   ],
   "source": [
    "60/100      ## using the baseline for the threshold"
   ]
  },
  {
   "cell_type": "markdown",
   "id": "b2cf9bd9",
   "metadata": {},
   "source": [
    "## Building the model"
   ]
  },
  {
   "cell_type": "code",
   "execution_count": 19,
   "id": "b7c7162b",
   "metadata": {},
   "outputs": [],
   "source": [
    "from sklearn import linear_model\n",
    "from sklearn.model_selection import train_test_split\n",
    "from sklearn.linear_model import LogisticRegression"
   ]
  },
  {
   "cell_type": "code",
   "execution_count": 20,
   "id": "5556db11",
   "metadata": {},
   "outputs": [],
   "source": [
    "## splitting the dataset into training and testing dataset\n",
    "x = data[['Card','Spending']]  ## independent variables\n",
    "y = data['Coupon'].values.reshape(-1,1)  ## dependent variable - 100 rows and 1 column\n",
    "x_train,x_test,y_train,y_test = train_test_split(x,y,test_size=0.25,random_state=42)"
   ]
  },
  {
   "cell_type": "code",
   "execution_count": 21,
   "id": "4858b9d9",
   "metadata": {},
   "outputs": [
    {
     "data": {
      "text/plain": [
       "(75, 75, 25, 25)"
      ]
     },
     "execution_count": 21,
     "metadata": {},
     "output_type": "execute_result"
    }
   ],
   "source": [
    "len(x_train),len(y_train),len(x_test),len(y_test)"
   ]
  },
  {
   "cell_type": "code",
   "execution_count": 22,
   "id": "f19a1089",
   "metadata": {},
   "outputs": [],
   "source": [
    "## this below method is used to chek the available methods and parameters \n",
    "##LogisticRegression?"
   ]
  },
  {
   "cell_type": "code",
   "execution_count": 24,
   "id": "7424f497",
   "metadata": {},
   "outputs": [
    {
     "data": {
      "text/plain": [
       "LogisticRegression()"
      ]
     },
     "execution_count": 24,
     "metadata": {},
     "output_type": "execute_result"
    }
   ],
   "source": [
    "Logisticreg = LogisticRegression(solver='lbfgs')\n",
    "Logisticreg.fit(x_train,y_train.ravel())  ## ravel will return 1D array with all the input array elements"
   ]
  },
  {
   "cell_type": "markdown",
   "id": "1190ae4e",
   "metadata": {},
   "source": [
    "## Predict the values of dependent variable using test and training set of independent variable"
   ]
  },
  {
   "cell_type": "code",
   "execution_count": 25,
   "id": "d3d3a21b",
   "metadata": {},
   "outputs": [
    {
     "data": {
      "text/plain": [
       "array([1, 0, 0, 0, 0, 0, 0, 1, 0, 0, 0, 0, 0, 0, 0, 0, 0, 1, 0, 0, 0, 1,\n",
       "       1, 0, 0])"
      ]
     },
     "execution_count": 25,
     "metadata": {},
     "output_type": "execute_result"
    }
   ],
   "source": [
    "y_predict_test = Logisticreg.predict(x_test)\n",
    "y_predict_test"
   ]
  },
  {
   "cell_type": "code",
   "execution_count": 26,
   "id": "79266920",
   "metadata": {},
   "outputs": [
    {
     "data": {
      "text/plain": [
       "array([0, 0, 0, 0, 0, 0, 0, 1, 0, 1, 0, 0, 1, 0, 0, 1, 0, 1, 0, 0, 0, 1,\n",
       "       0, 0, 0, 0, 0, 0, 0, 0, 0, 0, 0, 0, 1, 0, 0, 0, 0, 0, 0, 0, 0, 0,\n",
       "       0, 0, 0, 0, 1, 0, 0, 0, 1, 0, 0, 0, 0, 1, 0, 0, 0, 0, 0, 0, 0, 0,\n",
       "       1, 1, 0, 0, 0, 0, 1, 1, 0])"
      ]
     },
     "execution_count": 26,
     "metadata": {},
     "output_type": "execute_result"
    }
   ],
   "source": [
    "y_predict_train = Logisticreg.predict(x_train)\n",
    "y_predict_train"
   ]
  },
  {
   "cell_type": "code",
   "execution_count": 43,
   "id": "548edc93",
   "metadata": {
    "scrolled": true
   },
   "outputs": [
    {
     "data": {
      "text/plain": [
       "array([[0.49622117, 0.32880793, 0.44329114, 0.33320924, 0.41456465,\n",
       "        0.32890329, 0.3975043 , 0.66921229, 0.25844531, 0.63672372,\n",
       "        0.29274386, 0.28466974, 0.5159296 , 0.41992276, 0.24342356,\n",
       "        0.528514  , 0.47965107, 0.52805789, 0.33191449, 0.27457435,\n",
       "        0.49179296, 0.63261616, 0.24690181, 0.47089452, 0.27842076,\n",
       "        0.41663875, 0.36155602, 0.49970327, 0.23621636, 0.37860052,\n",
       "        0.48809323, 0.28877877, 0.28563859, 0.37231882, 0.65309742,\n",
       "        0.43807264, 0.33638478, 0.40406607, 0.23431177, 0.37282384,\n",
       "        0.49970327, 0.39768396, 0.32880793, 0.25782472, 0.47393834,\n",
       "        0.42878861, 0.26520939, 0.33320924, 0.54682499, 0.45446086,\n",
       "        0.44326597, 0.4965167 , 0.60065954, 0.38989654, 0.49149447,\n",
       "        0.27414424, 0.27785686, 0.67464141, 0.28195004, 0.48593427,\n",
       "        0.38633222, 0.31373499, 0.42810085, 0.27418723, 0.44371771,\n",
       "        0.41629601, 0.642004  , 0.6571001 , 0.44068025, 0.28195004,\n",
       "        0.40217015, 0.43807264, 0.50977653, 0.57944626, 0.2904233 ]])"
      ]
     },
     "execution_count": 43,
     "metadata": {},
     "output_type": "execute_result"
    }
   ],
   "source": [
    "## Calculating the probabilities\n",
    "y_prob_train = Logisticreg.predict_proba(x_train)[:,1]\n",
    "##print(y_prob_train)\n",
    "y_prob_train.reshape(1,-1)   ## 75 rows and 1 column"
   ]
  },
  {
   "attachments": {
    "predict_proba.png": {
     "image/png": "[encoded data removed]"
    }
   },
   "cell_type": "markdown",
   "id": "1d3a76fa",
   "metadata": {},
   "source": [
    "![predict_proba.png](attachment:predict_proba.png)"
   ]
  },
  {
   "cell_type": "code",
   "execution_count": 44,
   "id": "99e1c650",
   "metadata": {
    "scrolled": true
   },
   "outputs": [
    {
     "data": {
      "text/plain": [
       "array([[0.52802946, 0.49516653, 0.45703306, 0.27712052, 0.34390047,\n",
       "        0.26825171, 0.27712052, 0.607686  , 0.42836534, 0.43637155,\n",
       "        0.31387455, 0.23676248, 0.45703306, 0.43602768, 0.37596116,\n",
       "        0.44900317, 0.46952365, 0.68521935, 0.25167254, 0.47073304,\n",
       "        0.42361093, 0.56580644, 0.52792177, 0.40302605, 0.27457435]])"
      ]
     },
     "execution_count": 44,
     "metadata": {},
     "output_type": "execute_result"
    }
   ],
   "source": [
    "y_prob_test = Logisticreg.predict_proba(x_test)[:,1]\n",
    "##print(y_prob_test)\n",
    "y_prob_test.reshape(1,-1)"
   ]
  },
  {
   "cell_type": "code",
   "execution_count": 47,
   "id": "c7272915",
   "metadata": {},
   "outputs": [
    {
     "name": "stdout",
     "output_type": "stream",
     "text": [
      "Optimization terminated successfully.\n",
      "         Current function value: 0.604869\n",
      "         Iterations 5\n"
     ]
    },
    {
     "data": {
      "text/html": [
       "<table class=\"simpletable\">\n",
       "<caption>Logit Regression Results</caption>\n",
       "<tr>\n",
       "  <th>Dep. Variable:</th>        <td>Coupon</td>      <th>  No. Observations:  </th>  <td>   100</td> \n",
       "</tr>\n",
       "<tr>\n",
       "  <th>Model:</th>                 <td>Logit</td>      <th>  Df Residuals:      </th>  <td>    97</td> \n",
       "</tr>\n",
       "<tr>\n",
       "  <th>Method:</th>                 <td>MLE</td>       <th>  Df Model:          </th>  <td>     2</td> \n",
       "</tr>\n",
       "<tr>\n",
       "  <th>Date:</th>            <td>Sat, 29 Jan 2022</td> <th>  Pseudo R-squ.:     </th>  <td>0.1012</td> \n",
       "</tr>\n",
       "<tr>\n",
       "  <th>Time:</th>                <td>23:01:49</td>     <th>  Log-Likelihood:    </th> <td> -60.487</td>\n",
       "</tr>\n",
       "<tr>\n",
       "  <th>converged:</th>             <td>True</td>       <th>  LL-Null:           </th> <td> -67.301</td>\n",
       "</tr>\n",
       "<tr>\n",
       "  <th>Covariance Type:</th>     <td>nonrobust</td>    <th>  LLR p-value:       </th> <td>0.001098</td>\n",
       "</tr>\n",
       "</table>\n",
       "<table class=\"simpletable\">\n",
       "<tr>\n",
       "      <td></td>        <th>coef</th>     <th>std err</th>      <th>z</th>      <th>P>|z|</th>  <th>[0.025</th>    <th>0.975]</th>  \n",
       "</tr>\n",
       "<tr>\n",
       "  <th>const</th>    <td>   -2.1464</td> <td>    0.577</td> <td>   -3.718</td> <td> 0.000</td> <td>   -3.278</td> <td>   -1.015</td>\n",
       "</tr>\n",
       "<tr>\n",
       "  <th>Spending</th> <td>    0.3416</td> <td>    0.129</td> <td>    2.655</td> <td> 0.008</td> <td>    0.089</td> <td>    0.594</td>\n",
       "</tr>\n",
       "<tr>\n",
       "  <th>Card</th>     <td>    1.0987</td> <td>    0.445</td> <td>    2.471</td> <td> 0.013</td> <td>    0.227</td> <td>    1.970</td>\n",
       "</tr>\n",
       "</table>"
      ],
      "text/plain": [
       "<class 'statsmodels.iolib.summary.Summary'>\n",
       "\"\"\"\n",
       "                           Logit Regression Results                           \n",
       "==============================================================================\n",
       "Dep. Variable:                 Coupon   No. Observations:                  100\n",
       "Model:                          Logit   Df Residuals:                       97\n",
       "Method:                           MLE   Df Model:                            2\n",
       "Date:                Sat, 29 Jan 2022   Pseudo R-squ.:                  0.1012\n",
       "Time:                        23:01:49   Log-Likelihood:                -60.487\n",
       "converged:                       True   LL-Null:                       -67.301\n",
       "Covariance Type:            nonrobust   LLR p-value:                  0.001098\n",
       "==============================================================================\n",
       "                 coef    std err          z      P>|z|      [0.025      0.975]\n",
       "------------------------------------------------------------------------------\n",
       "const         -2.1464      0.577     -3.718      0.000      -3.278      -1.015\n",
       "Spending       0.3416      0.129      2.655      0.008       0.089       0.594\n",
       "Card           1.0987      0.445      2.471      0.013       0.227       1.970\n",
       "==============================================================================\n",
       "\"\"\""
      ]
     },
     "execution_count": 47,
     "metadata": {},
     "output_type": "execute_result"
    }
   ],
   "source": [
    "x = data[['Spending','Card']]\n",
    "y = data['Coupon']\n",
    "\n",
    "import statsmodels.api as sm\n",
    "x1 = sm.add_constant(x)\n",
    "logit_model = sm.Logit(y,x1).fit()\n",
    "logit_model.summary()"
   ]
  },
  {
   "cell_type": "markdown",
   "id": "f4cc2bd3",
   "metadata": {},
   "source": [
    "## Logistic Regression Equation coefficients::\n",
    "    spending --> 0.3416\n",
    "    Card --> 1.0987\n",
    "    const = -2.1464"
   ]
  },
  {
   "cell_type": "markdown",
   "id": "4ec87798",
   "metadata": {},
   "source": [
    "# ACCURACY SCORE"
   ]
  },
  {
   "cell_type": "code",
   "execution_count": 53,
   "id": "0f6c8eb0",
   "metadata": {},
   "outputs": [
    {
     "data": {
      "text/plain": [
       "0.76"
      ]
     },
     "execution_count": 53,
     "metadata": {},
     "output_type": "execute_result"
    }
   ],
   "source": [
    "## Checking the Accuracy of our model\n",
    "\n",
    "from sklearn.metrics import accuracy_score\n",
    "score =  accuracy_score(y_test,y_predict_test)\n",
    "score"
   ]
  },
  {
   "cell_type": "markdown",
   "id": "209d105d",
   "metadata": {},
   "source": [
    "# CONFUSION MATRIX"
   ]
  },
  {
   "cell_type": "code",
   "execution_count": 54,
   "id": "71fc12f7",
   "metadata": {},
   "outputs": [
    {
     "data": {
      "text/plain": [
       "array([[15,  1],\n",
       "       [ 5,  4]])"
      ]
     },
     "execution_count": 54,
     "metadata": {},
     "output_type": "execute_result"
    }
   ],
   "source": [
    "## Checking the confusion matrix of our model\n",
    "\n",
    "from sklearn.metrics import confusion_matrix\n",
    "confusion_matrix(y_test,y_predict_test)"
   ]
  },
  {
   "cell_type": "code",
   "execution_count": 62,
   "id": "6cc2dd3b",
   "metadata": {},
   "outputs": [
    {
     "name": "stdout",
     "output_type": "stream",
     "text": [
      "True Negatives ::  15\n",
      "False Positives ::  1\n",
      "True Positives ::  4\n",
      "False Negatives ::  5\n"
     ]
    }
   ],
   "source": [
    "tn,fp,fn,tp = confusion_matrix(y_test,y_predict_test).ravel()\n",
    "print(\"True Negatives :: \",tn)\n",
    "print(\"False Positives :: \",fp)\n",
    "print(\"True Positives :: \",tp)\n",
    "print(\"False Negatives :: \",fn)"
   ]
  },
  {
   "cell_type": "markdown",
   "id": "bc11429c",
   "metadata": {},
   "source": [
    "# CLASSIFICATION REPORT"
   ]
  },
  {
   "cell_type": "code",
   "execution_count": 63,
   "id": "88dc5300",
   "metadata": {},
   "outputs": [
    {
     "name": "stdout",
     "output_type": "stream",
     "text": [
      "              precision    recall  f1-score   support\n",
      "\n",
      "           0       0.75      0.94      0.83        16\n",
      "           1       0.80      0.44      0.57         9\n",
      "\n",
      "    accuracy                           0.76        25\n",
      "   macro avg       0.78      0.69      0.70        25\n",
      "weighted avg       0.77      0.76      0.74        25\n",
      "\n"
     ]
    }
   ],
   "source": [
    "from sklearn.metrics import classification_report\n",
    "print(classification_report(y_test,y_predict_test))"
   ]
  },
  {
   "cell_type": "code",
   "execution_count": 64,
   "id": "7841d102",
   "metadata": {},
   "outputs": [
    {
     "name": "stdout",
     "output_type": "stream",
     "text": [
      "Accuracy 0.76\n"
     ]
    }
   ],
   "source": [
    "Accuracy = (tp+tn)/(tp+tn+fp+fn)\n",
    "print(\"Accuracy {:0.2f}\".format(Accuracy))"
   ]
  },
  {
   "cell_type": "code",
   "execution_count": 65,
   "id": "ed4f7c6b",
   "metadata": {},
   "outputs": [
    {
     "name": "stdout",
     "output_type": "stream",
     "text": [
      "Specificty 0.94\n"
     ]
    }
   ],
   "source": [
    "Specificity = tn/(tn+fp)\n",
    "print(\"Specificty {:0.2f}\".format(Specificity))"
   ]
  },
  {
   "cell_type": "code",
   "execution_count": 67,
   "id": "9dd691bb",
   "metadata": {},
   "outputs": [
    {
     "name": "stdout",
     "output_type": "stream",
     "text": [
      "Sensitivity 0.44\n"
     ]
    }
   ],
   "source": [
    "Sensitivity = tp/(tp+fn)\n",
    "print(\"Sensitivity {:0.2f}\".format(Sensitivity))"
   ]
  },
  {
   "cell_type": "markdown",
   "id": "78d34248",
   "metadata": {},
   "source": [
    "# ROC CURVE"
   ]
  },
  {
   "cell_type": "code",
   "execution_count": 68,
   "id": "f43c6479",
   "metadata": {},
   "outputs": [],
   "source": [
    "from sklearn.metrics import roc_auc_score\n",
    "from sklearn.metrics import roc_curve,auc\n",
    "\n",
    "log_ROC_AUC1 = roc_auc_score(y_train,y_predict_train)\n",
    "fpr1,tpr1,threshold1 = roc_curve(y_train,y_prob_train)\n",
    "roc_auc1 = auc(fpr1,tpr1)"
   ]
  },
  {
   "cell_type": "code",
   "execution_count": 75,
   "id": "5d11dbc2",
   "metadata": {},
   "outputs": [
    {
     "name": "stdout",
     "output_type": "stream",
     "text": [
      "[1.67464141 0.67464141 0.6571001  0.65309742 0.528514   0.50977653\n",
      " 0.49970327 0.4965167  0.49622117 0.48809323 0.44068025 0.43807264\n",
      " 0.41992276 0.41629601 0.40406607 0.40217015 0.38633222 0.37282384\n",
      " 0.36155602 0.33638478 0.33320924 0.33191449 0.32890329 0.32880793\n",
      " 0.31373499 0.29274386 0.28877877 0.28563859 0.28466974 0.28195004\n",
      " 0.27457435 0.25844531 0.25782472 0.23431177] \n",
      "\n",
      "\n",
      "\n",
      "[0.         0.         0.         0.02272727 0.02272727 0.09090909\n",
      " 0.11363636 0.11363636 0.13636364 0.13636364 0.34090909 0.36363636\n",
      " 0.43181818 0.43181818 0.47727273 0.47727273 0.56818182 0.56818182\n",
      " 0.61363636 0.61363636 0.63636364 0.65909091 0.65909091 0.70454545\n",
      " 0.72727273 0.72727273 0.77272727 0.77272727 0.79545455 0.81818182\n",
      " 0.81818182 0.90909091 0.90909091 1.        ] \n",
      "\n",
      "\n",
      "\n",
      "\n",
      "[0.         0.03225806 0.09677419 0.09677419 0.32258065 0.32258065\n",
      " 0.35483871 0.38709677 0.38709677 0.48387097 0.48387097 0.51612903\n",
      " 0.51612903 0.58064516 0.58064516 0.61290323 0.61290323 0.67741935\n",
      " 0.67741935 0.70967742 0.74193548 0.74193548 0.77419355 0.77419355\n",
      " 0.77419355 0.80645161 0.80645161 0.83870968 0.83870968 0.87096774\n",
      " 0.96774194 0.96774194 1.         1.        ]\n"
     ]
    }
   ],
   "source": [
    "print(threshold1,\"\\n\\n\\n\")\n",
    "print(fpr1,\"\\n\\n\\n\\n\")\n",
    "print(tpr1)"
   ]
  },
  {
   "cell_type": "code",
   "execution_count": 71,
   "id": "30d178fd",
   "metadata": {},
   "outputs": [
    {
     "name": "stdout",
     "output_type": "stream",
     "text": [
      "0.6158357771260996\n"
     ]
    }
   ],
   "source": [
    "print(log_ROC_AUC1)"
   ]
  },
  {
   "cell_type": "code",
   "execution_count": 77,
   "id": "6c741cdc",
   "metadata": {},
   "outputs": [
    {
     "data": {
      "image/png": "[encoded data removed]",
      "text/plain": [
       "<Figure size 432x288 with 1 Axes>"
      ]
     },
     "metadata": {
      "needs_background": "light"
     },
     "output_type": "display_data"
    }
   ],
   "source": [
    "plt.figure()\n",
    "plt.plot(fpr1,tpr1,color='blue',label='ROC curve (area = %0.2f)'%roc_auc1)\n",
    "plt.plot([0,1],[0,1],'r--')\n",
    "plt.xlim([0.0,1.0])\n",
    "plt.ylim([0.0,1.05])\n",
    "plt.xlabel(\"FALSE POSITIVE RATE\")\n",
    "plt.ylabel(\"TRUE POSITIVE RATE\")\n",
    "plt.title(\"Reciever operating characteristics example\")\n",
    "plt.legend(loc=\"lower right\")\n",
    "plt.show()"
   ]
  },
  {
   "cell_type": "code",
   "execution_count": 76,
   "id": "740e83aa",
   "metadata": {},
   "outputs": [],
   "source": [
    "log_ROC_AUC = roc_auc_score(y_test,y_predict_test)\n",
    "fpr,tpr,threshold = roc_curve(y_test,y_prob_test)\n",
    "roc_auc = auc(fpr,tpr)"
   ]
  },
  {
   "cell_type": "code",
   "execution_count": 79,
   "id": "9fd2e104",
   "metadata": {},
   "outputs": [
    {
     "name": "stdout",
     "output_type": "stream",
     "text": [
      "[0.     0.     0.     0.0625 0.0625 0.125  0.125  0.125  0.375  0.375\n",
      " 0.625  0.75   1.    ] \n",
      "\n",
      "\n",
      "\n",
      "\n",
      "[0.         0.11111111 0.33333333 0.33333333 0.55555556 0.55555556\n",
      " 0.66666667 0.88888889 0.88888889 1.         1.         1.\n",
      " 1.        ]\n"
     ]
    }
   ],
   "source": [
    "print(fpr,\"\\n\\n\\n\\n\")\n",
    "print(tpr)"
   ]
  },
  {
   "cell_type": "code",
   "execution_count": 82,
   "id": "2230a720",
   "metadata": {},
   "outputs": [
    {
     "data": {
      "text/plain": [
       "<matplotlib.legend.Legend at 0x7f2781d60460>"
      ]
     },
     "execution_count": 82,
     "metadata": {},
     "output_type": "execute_result"
    },
    {
     "data": {
      "image/png": "[encoded data removed]",
      "text/plain": [
       "<Figure size 432x288 with 1 Axes>"
      ]
     },
     "metadata": {
      "needs_background": "light"
     },
     "output_type": "display_data"
    }
   ],
   "source": [
    "plt.figure()\n",
    "plt.plot(fpr,tpr,color=\"blue\",label=\"ROC curve (area = %0.2f)\"%roc_auc)\n",
    "plt.plot([0,1],[0,1],'r--')\n",
    "plt.xlim(0,1)\n",
    "plt.ylim(0,1.05)\n",
    "plt.title(\"Receiver Operating Characteristic Example\")\n",
    "plt.legend(loc=\"lower right\")"
   ]
  },
  {
   "cell_type": "markdown",
   "id": "e4ce7c6c",
   "metadata": {},
   "source": [
    "# first case: set threshold =0.35 "
   ]
  },
  {
   "cell_type": "code",
   "execution_count": 94,
   "id": "b95f0265",
   "metadata": {},
   "outputs": [
    {
     "data": {
      "text/plain": [
       "array([1., 1., 1., 0., 0., 0., 0., 1., 1., 1., 0., 0., 1., 1., 1., 1., 1.,\n",
       "       1., 0., 1., 1., 1., 1., 1., 0.])"
      ]
     },
     "execution_count": 94,
     "metadata": {},
     "output_type": "execute_result"
    }
   ],
   "source": [
    "from sklearn.preprocessing import binarize\n",
    "y_predict_class1 = binarize(y_prob_test.reshape(1,-1),threshold=0.35)[0]\n",
    "y_predict_class1"
   ]
  },
  {
   "cell_type": "code",
   "execution_count": 95,
   "id": "afe8f578",
   "metadata": {},
   "outputs": [
    {
     "data": {
      "text/plain": [
       "array([1, 1, 1, 0, 0, 0, 0, 1, 1, 1, 0, 0, 1, 1, 1, 1, 1, 1, 0, 1, 1, 1,\n",
       "       1, 1, 0])"
      ]
     },
     "execution_count": 95,
     "metadata": {},
     "output_type": "execute_result"
    }
   ],
   "source": [
    "y_predict_class1 = y_predict_class1.astype(int)\n",
    "y_predict_class1"
   ]
  },
  {
   "cell_type": "code",
   "execution_count": 96,
   "id": "87534350",
   "metadata": {},
   "outputs": [
    {
     "data": {
      "text/plain": [
       "array([[8, 8],\n",
       "       [0, 9]])"
      ]
     },
     "execution_count": 96,
     "metadata": {},
     "output_type": "execute_result"
    }
   ],
   "source": [
    "confusion_matrix_2 = confusion_matrix(y_test,y_predict_class1)\n",
    "confusion_matrix_2"
   ]
  },
  {
   "cell_type": "code",
   "execution_count": 97,
   "id": "d4b81e1f",
   "metadata": {},
   "outputs": [
    {
     "name": "stdout",
     "output_type": "stream",
     "text": [
      "True negative :  8\n",
      "False positive :  8\n",
      "False negative :  0\n",
      "True Positive :  9\n"
     ]
    }
   ],
   "source": [
    "tn,fp,fn,tp = confusion_matrix(y_test,y_predict_class1).ravel()\n",
    "print(\"True negative : \",tn)\n",
    "print(\"False positive : \",fp)\n",
    "print(\"False negative : \",fn)\n",
    "print(\"True Positive : \",tp)"
   ]
  },
  {
   "cell_type": "code",
   "execution_count": 98,
   "id": "65634857",
   "metadata": {},
   "outputs": [
    {
     "name": "stdout",
     "output_type": "stream",
     "text": [
      "              precision    recall  f1-score   support\n",
      "\n",
      "           0       1.00      0.50      0.67        16\n",
      "           1       0.53      1.00      0.69         9\n",
      "\n",
      "    accuracy                           0.68        25\n",
      "   macro avg       0.76      0.75      0.68        25\n",
      "weighted avg       0.83      0.68      0.68        25\n",
      "\n"
     ]
    }
   ],
   "source": [
    "from sklearn.metrics import classification_report\n",
    "print(classification_report(y_test,y_predict_class1))"
   ]
  },
  {
   "cell_type": "markdown",
   "id": "e2fc9fd6",
   "metadata": {},
   "source": [
    "# Second Case: set threshold = 0.50"
   ]
  },
  {
   "cell_type": "code",
   "execution_count": 99,
   "id": "c6dda6c5",
   "metadata": {},
   "outputs": [
    {
     "data": {
      "text/plain": [
       "array([1., 0., 0., 0., 0., 0., 0., 1., 0., 0., 0., 0., 0., 0., 0., 0., 0.,\n",
       "       1., 0., 0., 0., 1., 1., 0., 0.])"
      ]
     },
     "execution_count": 99,
     "metadata": {},
     "output_type": "execute_result"
    }
   ],
   "source": [
    "from sklearn.preprocessing import binarize\n",
    "y_predict_class2 = binarize(y_prob_test.reshape(1,-1),threshold=0.50)[0]\n",
    "y_predict_class2"
   ]
  },
  {
   "cell_type": "code",
   "execution_count": 100,
   "id": "7336a2d0",
   "metadata": {},
   "outputs": [
    {
     "data": {
      "text/plain": [
       "array([1, 0, 0, 0, 0, 0, 0, 1, 0, 0, 0, 0, 0, 0, 0, 0, 0, 1, 0, 0, 0, 1,\n",
       "       1, 0, 0])"
      ]
     },
     "execution_count": 100,
     "metadata": {},
     "output_type": "execute_result"
    }
   ],
   "source": [
    "y_predict_class2 = y_predict_class2.astype(int)\n",
    "y_predict_class2"
   ]
  },
  {
   "cell_type": "code",
   "execution_count": 101,
   "id": "eb1ee70d",
   "metadata": {},
   "outputs": [
    {
     "name": "stdout",
     "output_type": "stream",
     "text": [
      "[[15  1]\n",
      " [ 5  4]]\n"
     ]
    }
   ],
   "source": [
    "confusion_matrix_3 = confusion_matrix(y_test,y_predict_class2)\n",
    "print(confusion_matrix_3)"
   ]
  },
  {
   "cell_type": "code",
   "execution_count": 102,
   "id": "bad0fa9b",
   "metadata": {},
   "outputs": [
    {
     "name": "stdout",
     "output_type": "stream",
     "text": [
      "True negative :  15\n",
      "False positive :  1\n",
      "False negative :  5\n",
      "True Positive :  4\n"
     ]
    }
   ],
   "source": [
    "tn,fp,fn,tp = confusion_matrix(y_test,y_predict_class2).ravel()\n",
    "print(\"True negative : \",tn)\n",
    "print(\"False positive : \",fp)\n",
    "print(\"False negative : \",fn)\n",
    "print(\"True Positive : \",tp)"
   ]
  },
  {
   "cell_type": "code",
   "execution_count": 103,
   "id": "f1ae09f7",
   "metadata": {},
   "outputs": [
    {
     "name": "stdout",
     "output_type": "stream",
     "text": [
      "              precision    recall  f1-score   support\n",
      "\n",
      "           0       0.75      0.94      0.83        16\n",
      "           1       0.80      0.44      0.57         9\n",
      "\n",
      "    accuracy                           0.76        25\n",
      "   macro avg       0.78      0.69      0.70        25\n",
      "weighted avg       0.77      0.76      0.74        25\n",
      "\n"
     ]
    }
   ],
   "source": [
    "from sklearn.metrics import classification_report\n",
    "print(classification_report(y_test,y_predict_class2))"
   ]
  },
  {
   "cell_type": "markdown",
   "id": "0e95ff51",
   "metadata": {},
   "source": [
    "# Third Case : --> Set threshold = 0.70"
   ]
  },
  {
   "cell_type": "code",
   "execution_count": 105,
   "id": "9baa9455",
   "metadata": {},
   "outputs": [
    {
     "data": {
      "text/plain": [
       "array([0., 0., 0., 0., 0., 0., 0., 0., 0., 0., 0., 0., 0., 0., 0., 0., 0.,\n",
       "       0., 0., 0., 0., 0., 0., 0., 0.])"
      ]
     },
     "execution_count": 105,
     "metadata": {},
     "output_type": "execute_result"
    }
   ],
   "source": [
    "from sklearn.preprocessing import binarize\n",
    "y_predict_class3 = binarize(y_prob_test.reshape(1,-1),threshold=0.70)[0]\n",
    "y_predict_class3"
   ]
  },
  {
   "cell_type": "code",
   "execution_count": 108,
   "id": "8e499460",
   "metadata": {},
   "outputs": [
    {
     "data": {
      "text/plain": [
       "array([0, 0, 0, 0, 0, 0, 0, 0, 0, 0, 0, 0, 0, 0, 0, 0, 0, 0, 0, 0, 0, 0,\n",
       "       0, 0, 0])"
      ]
     },
     "execution_count": 108,
     "metadata": {},
     "output_type": "execute_result"
    }
   ],
   "source": [
    "y_predict_class3 = y_predict_class3.astype(int)\n",
    "y_predict_class3"
   ]
  },
  {
   "cell_type": "code",
   "execution_count": 109,
   "id": "e5f2d22b",
   "metadata": {},
   "outputs": [
    {
     "name": "stdout",
     "output_type": "stream",
     "text": [
      "[[16  0]\n",
      " [ 9  0]]\n"
     ]
    }
   ],
   "source": [
    "confusion_matrix_4 = confusion_matrix(y_test,y_predict_class3) \n",
    "print(confusion_matrix_4)"
   ]
  },
  {
   "cell_type": "code",
   "execution_count": 110,
   "id": "986b41b9",
   "metadata": {},
   "outputs": [
    {
     "name": "stdout",
     "output_type": "stream",
     "text": [
      "              precision    recall  f1-score   support\n",
      "\n",
      "           0       0.64      1.00      0.78        16\n",
      "           1       0.00      0.00      0.00         9\n",
      "\n",
      "    accuracy                           0.64        25\n",
      "   macro avg       0.32      0.50      0.39        25\n",
      "weighted avg       0.41      0.64      0.50        25\n",
      "\n"
     ]
    },
    {
     "name": "stderr",
     "output_type": "stream",
     "text": [
      "/home/ashish/anaconda3/lib/python3.8/site-packages/sklearn/metrics/_classification.py:1245: UndefinedMetricWarning: Precision and F-score are ill-defined and being set to 0.0 in labels with no predicted samples. Use `zero_division` parameter to control this behavior.\n",
      "  _warn_prf(average, modifier, msg_start, len(result))\n",
      "/home/ashish/anaconda3/lib/python3.8/site-packages/sklearn/metrics/_classification.py:1245: UndefinedMetricWarning: Precision and F-score are ill-defined and being set to 0.0 in labels with no predicted samples. Use `zero_division` parameter to control this behavior.\n",
      "  _warn_prf(average, modifier, msg_start, len(result))\n",
      "/home/ashish/anaconda3/lib/python3.8/site-packages/sklearn/metrics/_classification.py:1245: UndefinedMetricWarning: Precision and F-score are ill-defined and being set to 0.0 in labels with no predicted samples. Use `zero_division` parameter to control this behavior.\n",
      "  _warn_prf(average, modifier, msg_start, len(result))\n"
     ]
    }
   ],
   "source": [
    "from sklearn.metrics import classification_report\n",
    "print(classification_report(y_test,y_predict_class3))"
   ]
  },
  {
   "cell_type": "markdown",
   "id": "570dd771",
   "metadata": {},
   "source": [
    "# FINAL STEP : --> FINDING OPTIMAL CUTOFF POINT OR THRESHOLD VALUE"
   ]
  },
  {
   "cell_type": "code",
   "execution_count": 111,
   "id": "01de08b4",
   "metadata": {},
   "outputs": [],
   "source": [
    "from sklearn.metrics import roc_curve,auc"
   ]
  },
  {
   "cell_type": "code",
   "execution_count": 113,
   "id": "ef53c1fe",
   "metadata": {},
   "outputs": [],
   "source": [
    "fpr,tpr,thresholds = roc_curve(y_test,y_prob_test) \n",
    "roc_auc = auc(fpr,tpr)"
   ]
  },
  {
   "cell_type": "code",
   "execution_count": 114,
   "id": "6313ec04",
   "metadata": {},
   "outputs": [
    {
     "name": "stdout",
     "output_type": "stream",
     "text": [
      "Area under the ROC curve : 0.902778 \n"
     ]
    }
   ],
   "source": [
    "print(\"Area under the ROC curve : %f \"%roc_auc)"
   ]
  },
  {
   "cell_type": "code",
   "execution_count": 119,
   "id": "8895d950",
   "metadata": {},
   "outputs": [
    {
     "data": {
      "text/html": [
       "<div>\n",
       "<style scoped>\n",
       "    .dataframe tbody tr th:only-of-type {\n",
       "        vertical-align: middle;\n",
       "    }\n",
       "\n",
       "    .dataframe tbody tr th {\n",
       "        vertical-align: top;\n",
       "    }\n",
       "\n",
       "    .dataframe thead th {\n",
       "        text-align: right;\n",
       "    }\n",
       "</style>\n",
       "<table border=\"1\" class=\"dataframe\">\n",
       "  <thead>\n",
       "    <tr style=\"text-align: right;\">\n",
       "      <th></th>\n",
       "      <th>fpr</th>\n",
       "      <th>tpr</th>\n",
       "      <th>1-fpr</th>\n",
       "      <th>tf</th>\n",
       "      <th>thresholds</th>\n",
       "    </tr>\n",
       "  </thead>\n",
       "  <tbody>\n",
       "    <tr>\n",
       "      <th>7</th>\n",
       "      <td>0.125</td>\n",
       "      <td>0.888889</td>\n",
       "      <td>0.875</td>\n",
       "      <td>0.013889</td>\n",
       "      <td>0.457033</td>\n",
       "    </tr>\n",
       "  </tbody>\n",
       "</table>\n",
       "</div>"
      ],
      "text/plain": [
       "     fpr       tpr  1-fpr        tf  thresholds\n",
       "7  0.125  0.888889  0.875  0.013889    0.457033"
      ]
     },
     "execution_count": 119,
     "metadata": {},
     "output_type": "execute_result"
    }
   ],
   "source": [
    "import numpy as np\n",
    "i = np.arange(len(tpr))  ## index for df\n",
    "roc = pd.DataFrame({'fpr':pd.Series(fpr,index=i),\n",
    "                   'tpr':pd.Series(tpr,index=i),\n",
    "                   '1-fpr': pd.Series(1-fpr,index=i),\n",
    "                    'tf' : pd.Series(tpr-(1-fpr),index=i),\n",
    "                    'thresholds' : pd.Series(thresholds,index=i)\n",
    "                   })\n",
    "roc.iloc[(roc.tf-0).abs().argsort()[:1]]"
   ]
  },
  {
   "cell_type": "code",
   "execution_count": 120,
   "id": "dc1d78ad",
   "metadata": {},
   "outputs": [
    {
     "data": {
      "text/plain": [
       "[Text(-2.0, 0, ''),\n",
       " Text(0.0, 0, ''),\n",
       " Text(2.0, 0, ''),\n",
       " Text(4.0, 0, ''),\n",
       " Text(6.0, 0, ''),\n",
       " Text(8.0, 0, ''),\n",
       " Text(10.0, 0, ''),\n",
       " Text(12.0, 0, ''),\n",
       " Text(14.0, 0, '')]"
      ]
     },
     "execution_count": 120,
     "metadata": {},
     "output_type": "execute_result"
    },
    {
     "data": {
      "image/png": "[encoded data removed]",
      "text/plain": [
       "<Figure size 432x288 with 1 Axes>"
      ]
     },
     "metadata": {
      "needs_background": "light"
     },
     "output_type": "display_data"
    }
   ],
   "source": [
    "fig,ax = plt.subplots()\n",
    "plt.plot(roc['tpr'])\n",
    "plt.plot(roc['1-fpr'],color='red')\n",
    "plt.xlabel('1-False Positive Rate')\n",
    "plt.ylabel('True Positive Rate')\n",
    "plt.title('Receiver Operating Charcateristics')\n",
    "ax.set_xticklabels([])"
   ]
  },
  {
   "cell_type": "code",
   "execution_count": 122,
   "id": "b403c377",
   "metadata": {},
   "outputs": [
    {
     "data": {
      "text/plain": [
       "array([1., 1., 1., 0., 0., 0., 0., 1., 0., 0., 0., 0., 1., 0., 0., 0., 1.,\n",
       "       1., 0., 1., 0., 1., 1., 0., 0.])"
      ]
     },
     "execution_count": 122,
     "metadata": {},
     "output_type": "execute_result"
    }
   ],
   "source": [
    "from sklearn.preprocessing import binarize\n",
    "y_predicted_class4 = binarize(y_prob_test.reshape(1,-1),threshold=0.45)[0]\n",
    "y_predicted_class4"
   ]
  },
  {
   "cell_type": "code",
   "execution_count": 124,
   "id": "e98a95e7",
   "metadata": {},
   "outputs": [
    {
     "data": {
      "text/plain": [
       "array([1, 1, 1, 0, 0, 0, 0, 1, 0, 0, 0, 0, 1, 0, 0, 0, 1, 1, 0, 1, 0, 1,\n",
       "       1, 0, 0])"
      ]
     },
     "execution_count": 124,
     "metadata": {},
     "output_type": "execute_result"
    }
   ],
   "source": [
    "y_predicted_class4 = y_predicted_class4.astype(int)\n",
    "y_predicted_class4"
   ]
  },
  {
   "cell_type": "code",
   "execution_count": 126,
   "id": "2c94bc50",
   "metadata": {},
   "outputs": [
    {
     "name": "stdout",
     "output_type": "stream",
     "text": [
      "[[14  2]\n",
      " [ 1  8]]\n"
     ]
    }
   ],
   "source": [
    "confusion_matrix_5 = confusion_matrix(y_test,y_predicted_class4)\n",
    "print(confusion_matrix_5)"
   ]
  },
  {
   "cell_type": "code",
   "execution_count": 129,
   "id": "e4b2daa5",
   "metadata": {},
   "outputs": [
    {
     "name": "stdout",
     "output_type": "stream",
     "text": [
      "              precision    recall  f1-score   support\n",
      "\n",
      "           0       0.93      0.88      0.90        16\n",
      "           1       0.80      0.89      0.84         9\n",
      "\n",
      "    accuracy                           0.88        25\n",
      "   macro avg       0.87      0.88      0.87        25\n",
      "weighted avg       0.89      0.88      0.88        25\n",
      "\n"
     ]
    }
   ],
   "source": [
    "from sklearn.metrics import classification_report\n",
    "print(classification_report(y_test,y_predicted_class4))"
   ]
  },
  {
   "cell_type": "markdown",
   "id": "321ce548",
   "metadata": {},
   "source": [
    "# hence , at last we obtained the most optimum threshold for our logistic model."
   ]
  }
 ],
 "metadata": {
  "kernelspec": {
   "display_name": "Python 3",
   "language": "python",
   "name": "python3"
  },
  "language_info": {
   "codemirror_mode": {
    "name": "ipython",
    "version": 3
   },
   "file_extension": ".py",
   "mimetype": "text/x-python",
   "name": "python",
   "nbconvert_exporter": "python",
   "pygments_lexer": "ipython3",
   "version": "3.8.8"
  }
 },
 "nbformat": 4,
 "nbformat_minor": 5
}
